{
 "cells": [
  {
   "cell_type": "code",
   "execution_count": 1,
   "metadata": {},
   "outputs": [],
   "source": [
    "import numpy as np\n",
    "import pandas as pd\n",
    "import seaborn as sns\n",
    "import matplotlib.pyplot as plt\n",
    "from scipy.stats import zscore, skew, kurtosis\n",
    "from sklearn.preprocessing import LabelEncoder\n",
    "from sklearn.tree import DecisionTreeClassifier, plot_tree\n",
    "from sklearn.linear_model import LogisticRegression\n",
    "from sklearn.model_selection import GridSearchCV, train_test_split\n",
    "from sklearn.preprocessing import MinMaxScaler, StandardScaler, RobustScaler\n",
    "from sklearn.metrics import accuracy_score, precision_score, recall_score, f1_score, ConfusionMatrixDisplay, classification_report, confusion_matrix"
   ]
  },
  {
   "cell_type": "code",
   "execution_count": 2,
   "metadata": {},
   "outputs": [
    {
     "name": "stdout",
     "output_type": "stream",
     "text": [
      "        CustomerID   Age  Tenure  Usage Frequency  Support Calls  \\\n",
      "0              2.0  30.0    39.0             14.0            5.0   \n",
      "1              3.0  65.0    49.0              1.0           10.0   \n",
      "2              4.0  55.0    14.0              4.0            6.0   \n",
      "3              5.0  58.0    38.0             21.0            7.0   \n",
      "4              6.0  23.0    32.0             20.0            5.0   \n",
      "...            ...   ...     ...              ...            ...   \n",
      "440828    449995.0  42.0    54.0             15.0            1.0   \n",
      "440829    449996.0  25.0     8.0             13.0            1.0   \n",
      "440830    449997.0  26.0    35.0             27.0            1.0   \n",
      "440831    449998.0  28.0    55.0             14.0            2.0   \n",
      "440832    449999.0  31.0    48.0             20.0            1.0   \n",
      "\n",
      "        Payment Delay  Subscription Type  Contract Length  Total Spend  \\\n",
      "0                  10                  2                1       932.00   \n",
      "1                  29                  0                1       557.00   \n",
      "2                  10                  0                2       185.00   \n",
      "3                  28                  2                1       396.00   \n",
      "4                  29                  0                1       617.00   \n",
      "...               ...                ...              ...          ...   \n",
      "440828             23                  1                1       716.38   \n",
      "440829             13                  1                1       745.38   \n",
      "440830             26                  2                2       977.31   \n",
      "440831              0                  2                2       602.55   \n",
      "440832              6                  1                2       567.77   \n",
      "\n",
      "        Last Interaction  Churn  Male  Female  \n",
      "0                   17.0    1.0     0       1  \n",
      "1                    6.0    1.0     0       1  \n",
      "2                    3.0    1.0     0       1  \n",
      "3                   29.0    1.0     1       0  \n",
      "4                   20.0    1.0     1       0  \n",
      "...                  ...    ...   ...     ...  \n",
      "440828               8.0    0.0     1       0  \n",
      "440829               2.0    0.0     0       1  \n",
      "440830               9.0    0.0     1       0  \n",
      "440831               2.0    0.0     1       0  \n",
      "440832              21.0    0.0     1       0  \n",
      "\n",
      "[440833 rows x 13 columns]\n",
      "****************************************************************************************************\n",
      "       CustomerID  Age  Tenure  Usage Frequency  Support Calls  Payment Delay  \\\n",
      "0               1   22      25               14              4             20   \n",
      "1               2   41      28               28              7              5   \n",
      "2               3   47      27               10              2             22   \n",
      "3               4   35       9               12              5              9   \n",
      "4               5   53      58               24              9             12   \n",
      "...           ...  ...     ...              ...            ...            ...   \n",
      "64369       64370   45      33               12              6             14   \n",
      "64370       64371   37       6                1              5             15   \n",
      "64371       64372   25      39               14              8             24   \n",
      "64372       64373   50      18               19              7             15   \n",
      "64373       64374   52      45               15              9             18   \n",
      "\n",
      "       Subscription Type  Contract Length  Total Spend  Last Interaction  \\\n",
      "0                      0                1          598                 9   \n",
      "1                      2                1          584                20   \n",
      "2                      1                1          757                21   \n",
      "3                      1                2          232                18   \n",
      "4                      2                1          533                18   \n",
      "...                  ...              ...          ...               ...   \n",
      "64369                  0                2          947                14   \n",
      "64370                  2                1          923                 9   \n",
      "64371                  1                1          327                20   \n",
      "64372                  2                1          540                13   \n",
      "64373                  2                1          696                22   \n",
      "\n",
      "       Churn  Male  Female  \n",
      "0          1     0       1  \n",
      "1          0     0       1  \n",
      "2          0     1       0  \n",
      "3          0     1       0  \n",
      "4          0     0       1  \n",
      "...      ...   ...     ...  \n",
      "64369      1     0       1  \n",
      "64370      1     1       0  \n",
      "64371      1     1       0  \n",
      "64372      1     0       1  \n",
      "64373      1     0       1  \n",
      "\n",
      "[64374 rows x 13 columns]\n"
     ]
    }
   ],
   "source": [
    "train_df =  pd.read_csv('../Dataset/cleaned_customer_churn_dataset_training.csv')\n",
    "test_df =  pd.read_csv('../Dataset/cleaned_customer_churn_dataset_testing.csv')\n",
    "print(train_df)\n",
    "print(\"*\" *100)\n",
    "print(test_df)"
   ]
  },
  {
   "cell_type": "code",
   "execution_count": 3,
   "metadata": {},
   "outputs": [
    {
     "name": "stdout",
     "output_type": "stream",
     "text": [
      "Accuracy: 0.579395408084009\n",
      "Precision: 0.5309864519288319\n",
      "Recall: 0.9601219952120159\n",
      "F1 Score: 0.6838024056989372\n"
     ]
    }
   ],
   "source": [
    "X_train = train_df.drop(['CustomerID', 'Churn'], axis=1)\n",
    "y_train = train_df['Churn']\n",
    "\n",
    "X_test = test_df.drop(['CustomerID', 'Churn'], axis=1)\n",
    "y_test = test_df['Churn']\n",
    "\n",
    "logistic_regression = LogisticRegression(max_iter=1000, random_state=42)\n",
    "logistic_regression.fit(X_train, y_train)\n",
    "\n",
    "logistic_y_pred = logistic_regression.predict(X_test)\n",
    "\n",
    "print(\"Accuracy:\", accuracy_score(y_test, logistic_y_pred))\n",
    "print(\"Precision:\", precision_score(y_test, logistic_y_pred))\n",
    "print(\"Recall:\", recall_score(y_test, logistic_y_pred))\n",
    "print(\"F1 Score:\", f1_score(y_test, logistic_y_pred))"
   ]
  },
  {
   "cell_type": "code",
   "execution_count": 4,
   "metadata": {},
   "outputs": [
    {
     "data": {
      "image/png": "[encoded data removed]",
      "text/plain": [
       "<Figure size 600x400 with 2 Axes>"
      ]
     },
     "metadata": {},
     "output_type": "display_data"
    }
   ],
   "source": [
    "logistic_confusion_matrix = confusion_matrix(y_test, logistic_y_pred)\n",
    "\n",
    "plt.figure(figsize=(6, 4))\n",
    "sns.heatmap(logistic_confusion_matrix, annot=True, fmt=\"d\", cmap=\"Blues\")\n",
    "plt.title(\"Confusion Matrix (External Test Set, XGBoost)\")\n",
    "plt.xlabel(\"Predicted\")\n",
    "plt.ylabel(\"Actual\")\n",
    "plt.tight_layout()\n",
    "plt.show()"
   ]
  }
 ],
 "metadata": {
  "kernelspec": {
   "display_name": "base",
   "language": "python",
   "name": "python3"
  },
  "language_info": {
   "codemirror_mode": {
    "name": "ipython",
    "version": 3
   },
   "file_extension": ".py",
   "mimetype": "text/x-python",
   "name": "python",
   "nbconvert_exporter": "python",
   "pygments_lexer": "ipython3",
   "version": "3.12.7"
  }
 },
 "nbformat": 4,
 "nbformat_minor": 2
}
