{
  "nbformat": 4,
  "nbformat_minor": 0,
  "metadata": {
    "colab": {
      "provenance": [],
      "machine_shape": "hm",
      "gpuType": "A100",
      "authorship_tag": "ABX9TyO1E/Rhg1F2ktSJq2LCsSYU",
      "include_colab_link": true
    },
    "kernelspec": {
      "name": "python3",
      "display_name": "Python 3"
    },
    "language_info": {
      "name": "python"
    },
    "accelerator": "GPU"
  },
  "cells": [
    {
      "cell_type": "markdown",
      "metadata": {
        "id": "view-in-github",
        "colab_type": "text"
      },
      "source": [
        "<a href=\"https://colab.research.google.com/github/NolanMM/PROG74000-25W-Sec1-Applications-of-Artificial-Intelligence-and-Machine-Learning/blob/5-Final-Project/Project/Break_Large_File_Notebook.ipynb\" target=\"_parent\"><img src=\"https://colab.research.google.com/assets/colab-badge.svg\" alt=\"Open In Colab\"/></a>"
      ]
    },
    {
      "cell_type": "code",
      "source": [
        "!pip install polars[gpu]"
      ],
      "metadata": {
        "id": "NI38whtQ7sJE"
      },
      "execution_count": null,
      "outputs": []
    },
    {
      "cell_type": "code",
      "execution_count": 1,
      "metadata": {
        "colab": {
          "base_uri": "https://localhost:8080/"
        },
        "id": "fkqJ5wpK3pCS",
        "outputId": "e1850b58-cf2a-4104-deb0-d4841fdf2b9d"
      },
      "outputs": [
        {
          "output_type": "stream",
          "name": "stdout",
          "text": [
            "Mounted at /content/drive\n"
          ]
        }
      ],
      "source": [
        "from google.colab import drive\n",
        "drive.mount('/content/drive')"
      ]
    },
    {
      "cell_type": "code",
      "source": [
        "import polars as pl\n",
        "import os\n",
        "import math\n",
        "\n",
        "class DataSplitter:\n",
        "    @staticmethod\n",
        "    def split_ndjson_to_csv(\n",
        "        input_path: str,\n",
        "        output_dir: str,\n",
        "        chunk_size: int = 300000,\n",
        "        engine: str = \"gpu\"\n",
        "    ):\n",
        "        df = pl.scan_ndjson(input_path)\n",
        "        result = df.collect(engine=engine)\n",
        "\n",
        "        if not os.path.exists(output_dir):\n",
        "            os.makedirs(output_dir)\n",
        "\n",
        "        num_chunks = math.ceil(len(result) / chunk_size)\n",
        "        for i in range(num_chunks):\n",
        "            start = i * chunk_size\n",
        "            end = min((i + 1) * chunk_size, len(result))\n",
        "            chunk = result[start:end]\n",
        "            chunk.write_csv(f\"{output_dir}/part_{i+1}.csv\")\n",
        "\n",
        "        print(f\"✅ Saved {num_chunks} CSV files in {output_dir}\")\n"
      ],
      "metadata": {
        "colab": {
          "base_uri": "https://localhost:8080/"
        },
        "id": "Tg4ZwCv85RGQ",
        "outputId": "620e4dcf-2c1e-4736-89b5-c02fea30e563"
      },
      "execution_count": 11,
      "outputs": [
        {
          "output_type": "stream",
          "name": "stdout",
          "text": [
            "✅ Saved 88 CSV files in /content/drive/MyDrive/PROG74000-25W-Project/Break_data\n"
          ]
        }
      ]
    },
    {
      "cell_type": "code",
      "source": [
        "DataSplitter.split_ndjson_to_csv(\n",
        "    input_path='/content/drive/MyDrive/PROG74000-25W-Project/bigdata.json',\n",
        "    output_dir='/content/drive/MyDrive/PROG74000-25W-Project/Break_data',\n",
        "    chunk_size=300000\n",
        ")"
      ],
      "metadata": {
        "id": "03ARz4bp8CjK"
      },
      "execution_count": null,
      "outputs": []
    }
  ]
}