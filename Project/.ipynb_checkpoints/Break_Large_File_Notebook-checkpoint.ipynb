{
 "cells": [
  {
   "cell_type": "code",
   "execution_count": null,
   "metadata": {},
   "outputs": [],
   "source": [
    "import pandas as pd\n",
    "import os\n",
    "import math\n",
    "import json\n",
    "\n",
    "class DataSplitter:\n",
    "    @staticmethod\n",
    "    def split_ndjson_to_csv(\n",
    "        input_path: str,\n",
    "        output_dir: str,\n",
    "        chunk_size: int = 300000,\n",
    "    ):\n",
    "        with open(input_path, 'r', encoding='utf-8') as f:\n",
    "            data = [json.loads(line) for line in f if line.strip()]\n",
    "        df = pd.DataFrame(data)\n",
    "        if not os.path.exists(output_dir):\n",
    "            os.makedirs(output_dir)\n",
    "        num_chunks = math.ceil(len(df) / chunk_size)\n",
    "        for i in range(num_chunks):\n",
    "            start = i * chunk_size\n",
    "            end = min((i + 1) * chunk_size, len(df))\n",
    "            chunk = df.iloc[start:end]\n",
    "            output_path = os.path.join(output_dir, f\"part_{i+1}.csv\")\n",
    "            chunk.to_csv(output_path, index=False)\n",
    "        print(f\"Saved {num_chunks} CSV files in {output_dir}\")"
   ]
  },
  {
   "cell_type": "code",
   "execution_count": null,
   "metadata": {},
   "outputs": [],
   "source": [
    "DataSplitter.split_ndjson_to_csv(\n",
    "    input_path='./Bigdataset/mini_sparkify_event_data.json',\n",
    "    output_dir='./Bigdataset/BreakData',\n",
    "    chunk_size=300000\n",
    ")"
   ]
  },
  {
   "cell_type": "markdown",
   "metadata": {
    "colab_type": "text",
    "id": "view-in-github"
   },
   "source": [
    "<a href=\"https://colab.research.google.com/github/NolanMM/PROG74000-25W-Sec1-Applications-of-Artificial-Intelligence-and-Machine-Learning/blob/5-Final-Project/Project/Break_Large_File_Notebook.ipynb\" target=\"_parent\"><img src=\"https://colab.research.google.com/assets/colab-badge.svg\" alt=\"Open In Colab\"/></a>"
   ]
  },
  {
   "cell_type": "code",
   "execution_count": null,
   "metadata": {
    "id": "NI38whtQ7sJE"
   },
   "outputs": [],
   "source": [
    "!pip install polars[gpu]"
   ]
  },
  {
   "cell_type": "code",
   "execution_count": 1,
   "metadata": {
    "colab": {
     "base_uri": "https://localhost:8080/"
    },
    "id": "fkqJ5wpK3pCS",
    "outputId": "e1850b58-cf2a-4104-deb0-d4841fdf2b9d"
   },
   "outputs": [
    {
     "name": "stdout",
     "output_type": "stream",
     "text": [
      "Mounted at /content/drive\n"
     ]
    }
   ],
   "source": [
    "from google.colab import drive\n",
    "drive.mount('/content/drive')"
   ]
  },
  {
   "cell_type": "code",
   "execution_count": 11,
   "metadata": {
    "colab": {
     "base_uri": "https://localhost:8080/"
    },
    "id": "Tg4ZwCv85RGQ",
    "outputId": "620e4dcf-2c1e-4736-89b5-c02fea30e563"
   },
   "outputs": [
    {
     "name": "stdout",
     "output_type": "stream",
     "text": [
      "✅ Saved 88 CSV files in /content/drive/MyDrive/PROG74000-25W-Project/Break_data\n"
     ]
    }
   ],
   "source": [
    "import polars as pl\n",
    "import os\n",
    "import math\n",
    "\n",
    "class DataSplitter:\n",
    "    @staticmethod\n",
    "    def split_ndjson_to_csv(\n",
    "        input_path: str,\n",
    "        output_dir: str,\n",
    "        chunk_size: int = 300000,\n",
    "        engine: str = \"gpu\"\n",
    "    ):\n",
    "        df = pl.scan_ndjson(input_path)\n",
    "        result = df.collect(engine=engine)\n",
    "\n",
    "        if not os.path.exists(output_dir):\n",
    "            os.makedirs(output_dir)\n",
    "\n",
    "        num_chunks = math.ceil(len(result) / chunk_size)\n",
    "        for i in range(num_chunks):\n",
    "            start = i * chunk_size\n",
    "            end = min((i + 1) * chunk_size, len(result))\n",
    "            chunk = result[start:end]\n",
    "            chunk.write_csv(f\"{output_dir}/part_{i+1}.csv\")\n",
    "\n",
    "        print(f\"✅ Saved {num_chunks} CSV files in {output_dir}\")\n"
   ]
  },
  {
   "cell_type": "code",
   "execution_count": null,
   "metadata": {
    "id": "03ARz4bp8CjK"
   },
   "outputs": [],
   "source": [
    "DataSplitter.split_ndjson_to_csv(\n",
    "    input_path='/content/drive/MyDrive/PROG74000-25W-Project/bigdata.json',\n",
    "    output_dir='/content/drive/MyDrive/PROG74000-25W-Project/Break_data',\n",
    "    chunk_size=300000\n",
    ")"
   ]
  }
 ],
 "metadata": {
  "accelerator": "GPU",
  "colab": {
   "authorship_tag": "ABX9TyO1E/Rhg1F2ktSJq2LCsSYU",
   "gpuType": "A100",
   "include_colab_link": true,
   "machine_shape": "hm",
   "provenance": []
  },
  "kernelspec": {
   "display_name": "Python 3 (ipykernel)",
   "language": "python",
   "name": "python3"
  },
  "language_info": {
   "codemirror_mode": {
    "name": "ipython",
    "version": 3
   },
   "file_extension": ".py",
   "mimetype": "text/x-python",
   "name": "python",
   "nbconvert_exporter": "python",
   "pygments_lexer": "ipython3",
   "version": "3.10.10"
  }
 },
 "nbformat": 4,
 "nbformat_minor": 4
}
