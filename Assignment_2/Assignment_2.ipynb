{
 "cells": [
  {
   "cell_type": "markdown",
   "id": "ed89186e-35c6-4d79-ac9d-bf8f6cd39a9b",
   "metadata": {},
   "source": [
    "<div style=\"text-align: center; font-size: 30px; font-weight: bold;\">\n",
    "    Assignment/Lab 2: Winter 2025 Group 2\n",
    "    <br>***\n",
    "</div>\n",
    "\n",
    "<h1>Team members</h1>\n",
    "<b>\n",
    "    \n",
    "- Minh Le Nguyen\n",
    "- Liam Knapp\n",
    "- Gautam Singh\n",
    "- Gleb Ignatov\n",
    "\n",
    "</b>\n",
    "<br>\n",
    "\n",
    "---\n",
    "\n",
    "<div style=\"text-align: center; font-size: 24px; font-weight: bold;\">\n",
    "    Building Linear and Logistic Regression Models from Scratch\n",
    "</div>\n",
    "\n",
    "## I. Objectives\n",
    "\n",
    "<b>\n",
    "    \n",
    "- Implement Linear Regression and Logistic Regression from scratch without using machine learning \n",
    "libraries.  \n",
    "- Understand and apply gradient descent for optimizing model parameters. \n",
    "- Evaluate model performance using appropriate performance measures. \n",
    "- Use  your  implementation  to  perform  regression  and classification  on  the  datasets  provided  in  \n",
    "separate files. \n",
    "- Compare your custom implementations with scikit-learn’s built-in models. \n",
    "- Reflect on challenges encountered and key takeaways from implementing regression models \n",
    "manually.\n",
    "    \n",
    "</b>\n",
    "\n",
    "**Note: Intructions Details at the bottoms**\n",
    "\n",
    "### *Formulas\n",
    "\n",
    "<b>\n",
    "\n",
    "1. [Linear Regression](https://stanford.edu/~shervine/teaching/cs-229/cheatsheet-supervised-learning#linear-models)\n",
    "\n",
    "2. [Logistic Regression](https://stanford.edu/~shervine/teaching/cs-229/cheatsheet-supervised-learning#linear-models)\n",
    "\n",
    "</b>"
   ]
  },
  {
   "cell_type": "markdown",
   "id": "ab1740e4-53c1-45e4-aa7b-0ebfbacd9de2",
   "metadata": {},
   "source": [
    "---\n",
    "\n",
    "## II. Implementation"
   ]
  },
  {
   "cell_type": "markdown",
   "id": "19e0deea-f4e4-4e12-bb5a-e66c31d0997d",
   "metadata": {},
   "source": [
    "### Set up your Python development environment"
   ]
  },
  {
   "cell_type": "code",
   "execution_count": null,
   "id": "dcfd9c3f-8d39-4399-830b-f9aca0f38a91",
   "metadata": {},
   "outputs": [],
   "source": []
  },
  {
   "cell_type": "markdown",
   "id": "3eca248f-3eb1-41b9-8f36-136da2a2de38",
   "metadata": {},
   "source": [
    "### Step 1: Implement the Linear Regression Algorithm        "
   ]
  },
  {
   "cell_type": "code",
   "execution_count": null,
   "id": "b5b712a4-5d29-481e-8834-bdd26e5d2cf3",
   "metadata": {},
   "outputs": [],
   "source": []
  },
  {
   "cell_type": "markdown",
   "id": "f62ea93a-58ae-41ea-bbcd-eca9a329bae1",
   "metadata": {},
   "source": [
    "### Step 2: Load the Dataset \n",
    "(training_dataset_linear.csv and validation_dataset_linear.csv)    "
   ]
  },
  {
   "cell_type": "code",
   "execution_count": null,
   "id": "e798b5c2-6123-4ebf-b619-8a2068faebb7",
   "metadata": {},
   "outputs": [],
   "source": []
  },
  {
   "cell_type": "markdown",
   "id": "d15ac9e3-92aa-4df8-ab21-04b51ad728e7",
   "metadata": {},
   "source": [
    "### Step 3: Train the Linear Regression Model"
   ]
  },
  {
   "cell_type": "code",
   "execution_count": null,
   "id": "8115bb53-da35-4746-aa34-4082d9cc931d",
   "metadata": {},
   "outputs": [],
   "source": []
  },
  {
   "cell_type": "markdown",
   "id": "140bf250-f7d9-4356-84f4-1911d7b9b36d",
   "metadata": {},
   "source": [
    "### Step 4: Test and Evaluate the Model"
   ]
  },
  {
   "cell_type": "code",
   "execution_count": null,
   "id": "fe1bc87a-c8e7-42e3-9f5a-16f4678f9b1b",
   "metadata": {},
   "outputs": [],
   "source": []
  },
  {
   "cell_type": "markdown",
   "id": "2bbbb230-610f-4477-b313-5ac7cad56855",
   "metadata": {},
   "source": [
    "### Step 5: Implement the Logistic Regression Algorithm"
   ]
  },
  {
   "cell_type": "code",
   "execution_count": null,
   "id": "4c8a3048-eb09-466c-bdda-ea70c83684cb",
   "metadata": {},
   "outputs": [],
   "source": []
  },
  {
   "cell_type": "markdown",
   "id": "2fba5f8c-cad9-4d1d-8db3-95a48837af03",
   "metadata": {},
   "source": [
    "### Step 6: Load the Dataset \n",
    "(training_dataset_logistic.csv and validation_dataset_logistic.csv)    "
   ]
  },
  {
   "cell_type": "code",
   "execution_count": null,
   "id": "d1e9f609-b775-4bb2-87e4-a1a3194f4bac",
   "metadata": {},
   "outputs": [],
   "source": []
  },
  {
   "cell_type": "markdown",
   "id": "10523734-e709-42e2-8a2a-4b6f5f86909f",
   "metadata": {},
   "source": [
    "### Step 7: Train the Logistic Regression Model"
   ]
  },
  {
   "cell_type": "code",
   "execution_count": null,
   "id": "b9361a3a-89f4-4e67-b7a0-8dbd72e3b867",
   "metadata": {},
   "outputs": [],
   "source": []
  },
  {
   "cell_type": "markdown",
   "id": "81d95083-e1c6-47b7-b30a-49fc3821b6e8",
   "metadata": {},
   "source": [
    "### Step 8: Test and Evaluate the Model"
   ]
  },
  {
   "cell_type": "code",
   "execution_count": null,
   "id": "a4de86a0-0b1c-46ec-9291-ee4f0f0e7a70",
   "metadata": {},
   "outputs": [],
   "source": []
  },
  {
   "cell_type": "markdown",
   "id": "eab75c4c-d4dd-4e9c-b4ea-ac8796cabc09",
   "metadata": {},
   "source": [
    "---\n",
    "\n",
    "## III. Instructions\n",
    "\n",
    "### Step 1: Implement the Linear Regression Algorithm\n",
    "Your task is to implement the Linear Regression algorithm from scratch without using any machine \n",
    "learning libraries like scikit-learn for the core functionality. Follow these steps:\n",
    "\n",
    "<b>\n",
    "\n",
    "1. Create a LinearRegression class with the following methods:\n",
    "    - fit(X, y): Train the model using the given input features X and target values y.\n",
    "    - predict(X): Predict the target values for a given set of examples.\n",
    "    - You may add other methods or modify the input arguments as needed\n",
    "2. Use the Mean Squared Error (MSE) as the loss function\n",
    "3. Implement gradient descent to optimize the model parameters. Allow the learning rate (lr) and \n",
    "the number of iterations to be adjustable\n",
    "4. Ensure your implementation supports multiple features.\n",
    "\n",
    "</b>\n",
    "\n",
    "---\n",
    "\n",
    "### Step 2: Load the Dataset \n",
    "\n",
    "You will receive files named training_dataset_linear.csv and validation_dataset_linear.csv containing the \n",
    "datasets. Perform the follow\n",
    "\n",
    "<b>\n",
    "\n",
    "1. Load the data from the provided CSV files.\n",
    "2. Understand the dataset using visualizations and basic statistical summaries.\n",
    "3. Preprocess the data if necessary (e.g., handle missing values, normalize features if needed). \n",
    "\n",
    "</b>\n",
    "\n",
    "---\n",
    "\n",
    "### Step 3: Train the Linear Regression Model         \n",
    "\n",
    "<b>\n",
    "\n",
    "1. Initialize your LinearRegression model with a learning rate of lr and iter iterations. \n",
    "2. Train the model using the fit method with the provided training dataset.\n",
    "\n",
    "</b>\n",
    "\n",
    "---\n",
    "\n",
    "### Step 4: Test and Evaluate the Model \n",
    "\n",
    "<b>\n",
    "\n",
    "1. Use the predict method to make predictions on the validation dataset.\n",
    "2. Compute the Mean Squared Error (MSE) and R-squared score to evaluate performance.\n",
    "3. Plot the regression line generated by the model along with the training data on a single graph.\n",
    "4. Compare your implementation with the result of LinearRegression from scikit-learn.\n",
    "\n",
    "</b>\n",
    "\n",
    "---\n",
    "\n",
    "### Step 5: Implement the Logistic Regression Algorithm  \n",
    "\n",
    "<b>\n",
    "\n",
    "1. Create a LogisticRegression class with the following methods:\n",
    "    - fit(X, y): Train the model using the given input features X and target values y. \n",
    "    - predict(X): Predict the class labels for a given set of examples. \n",
    "    - predict_proba(X): Return the probability scores for each class. \n",
    "    - You may add other methods or modify the input arguments as needed.\n",
    "\n",
    "2. Use the Binary Cross-Entropy (Log Loss) as the loss function.\n",
    "3. Implement gradient descent to optimize the model parameters. Allow the learning rate (lr) and \n",
    "the number of iterations to be adjustable.\n",
    "4. Ensure your implementation supports multiple features.\n",
    "5. Use the sigmoid function to map predictions to probabilities. \n",
    "   \n",
    "</b>\n",
    "\n",
    "---\n",
    "\n",
    "### Step 6: Load the Dataset    \n",
    "\n",
    "You will receive files named training_dataset_logistic.csv and validation_dataset_logistic.csv containing \n",
    "the datasets. Perform the following: \n",
    "\n",
    "<b>\n",
    "\n",
    "1. Load the data from the provided CSV files.\n",
    "2. Understand the dataset using visualizations and basic statistical summaries.\n",
    "3. Preprocess the data if necessary (e.g., handle missing values, normalize features if needed). \n",
    "\n",
    "</b>\n",
    "\n",
    "---\n",
    "\n",
    "### Step 7: Train the Logistic Regression Model        \n",
    "\n",
    "<b>\n",
    "\n",
    "1. Initialize your LogisticRegression model with a learning rate of lr and iter iterations.\n",
    "2. Train the model using the fit method with the provided training dataset.\n",
    "\n",
    "</b>\n",
    "\n",
    "---\n",
    "\n",
    "\n",
    "### Step 8: Test and Evaluate the Model:\n",
    "\n",
    "<b>\n",
    "\n",
    "1. Use the predict method to classify examples from the validation dataset.\n",
    "2. Compute the accuracy, precision, recall, and F1-score to evaluate the model.\n",
    "3. Plot the decision boundary along with the training data on a single graph.\n",
    "4. What is the equation of the decision boundary?\n",
    "5. Compare your implementation with the result of LogisticRegression from scikit-learn.\n",
    "   \n",
    "</b>"
   ]
  }
 ],
 "metadata": {
  "kernelspec": {
   "display_name": "Python 3 (ipykernel)",
   "language": "python",
   "name": "python3"
  },
  "language_info": {
   "codemirror_mode": {
    "name": "ipython",
    "version": 3
   },
   "file_extension": ".py",
   "mimetype": "text/x-python",
   "name": "python",
   "nbconvert_exporter": "python",
   "pygments_lexer": "ipython3",
   "version": "3.12.6"
  }
 },
 "nbformat": 4,
 "nbformat_minor": 5
}
